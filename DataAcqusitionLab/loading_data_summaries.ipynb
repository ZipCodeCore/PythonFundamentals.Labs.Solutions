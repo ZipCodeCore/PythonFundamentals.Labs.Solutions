{
 "cells": [
  {
   "cell_type": "code",
   "execution_count": 1,
   "metadata": {},
   "outputs": [],
   "source": [
    "import json_helper"
   ]
  },
  {
   "cell_type": "code",
   "execution_count": 6,
   "metadata": {},
   "outputs": [],
   "source": [
    "df_daily_summaries = json_helper.read_all_json_files('./data/daily_summaries')"
   ]
  },
  {
   "cell_type": "code",
   "execution_count": 7,
   "metadata": {},
   "outputs": [
    {
     "data": {
      "text/html": [
       "<div>\n",
       "<style scoped>\n",
       "    .dataframe tbody tr th:only-of-type {\n",
       "        vertical-align: middle;\n",
       "    }\n",
       "\n",
       "    .dataframe tbody tr th {\n",
       "        vertical-align: top;\n",
       "    }\n",
       "\n",
       "    .dataframe thead th {\n",
       "        text-align: right;\n",
       "    }\n",
       "</style>\n",
       "<table border=\"1\" class=\"dataframe\">\n",
       "  <thead>\n",
       "    <tr style=\"text-align: right;\">\n",
       "      <th></th>\n",
       "      <th>date</th>\n",
       "      <th>datatype</th>\n",
       "      <th>station</th>\n",
       "      <th>attributes</th>\n",
       "      <th>value</th>\n",
       "      <th>source</th>\n",
       "    </tr>\n",
       "  </thead>\n",
       "  <tbody>\n",
       "    <tr>\n",
       "      <td>0</td>\n",
       "      <td>2018-01-01T00:00:00</td>\n",
       "      <td>PRCP</td>\n",
       "      <td>GHCND:US1DENC0001</td>\n",
       "      <td>,,N,</td>\n",
       "      <td>0</td>\n",
       "      <td>daily_summaries_FIPS10003_jan_2018_0.json</td>\n",
       "    </tr>\n",
       "    <tr>\n",
       "      <td>1</td>\n",
       "      <td>2018-01-01T00:00:00</td>\n",
       "      <td>SNWD</td>\n",
       "      <td>GHCND:US1DENC0001</td>\n",
       "      <td>T,,N,</td>\n",
       "      <td>0</td>\n",
       "      <td>daily_summaries_FIPS10003_jan_2018_0.json</td>\n",
       "    </tr>\n",
       "    <tr>\n",
       "      <td>2</td>\n",
       "      <td>2018-01-01T00:00:00</td>\n",
       "      <td>PRCP</td>\n",
       "      <td>GHCND:US1DENC0002</td>\n",
       "      <td>,,N,</td>\n",
       "      <td>0</td>\n",
       "      <td>daily_summaries_FIPS10003_jan_2018_0.json</td>\n",
       "    </tr>\n",
       "    <tr>\n",
       "      <td>3</td>\n",
       "      <td>2018-01-01T00:00:00</td>\n",
       "      <td>SNOW</td>\n",
       "      <td>GHCND:US1DENC0002</td>\n",
       "      <td>,,N,</td>\n",
       "      <td>0</td>\n",
       "      <td>daily_summaries_FIPS10003_jan_2018_0.json</td>\n",
       "    </tr>\n",
       "    <tr>\n",
       "      <td>4</td>\n",
       "      <td>2018-01-01T00:00:00</td>\n",
       "      <td>SNWD</td>\n",
       "      <td>GHCND:US1DENC0002</td>\n",
       "      <td>T,,N,</td>\n",
       "      <td>0</td>\n",
       "      <td>daily_summaries_FIPS10003_jan_2018_0.json</td>\n",
       "    </tr>\n",
       "    <tr>\n",
       "      <td>...</td>\n",
       "      <td>...</td>\n",
       "      <td>...</td>\n",
       "      <td>...</td>\n",
       "      <td>...</td>\n",
       "      <td>...</td>\n",
       "      <td>...</td>\n",
       "    </tr>\n",
       "    <tr>\n",
       "      <td>164</td>\n",
       "      <td>2018-01-31T00:00:00</td>\n",
       "      <td>TMIN</td>\n",
       "      <td>GHCND:USW00013781</td>\n",
       "      <td>,,W,2400</td>\n",
       "      <td>-93</td>\n",
       "      <td>daily_summaries_FIPS1003_jan_2018_1.json</td>\n",
       "    </tr>\n",
       "    <tr>\n",
       "      <td>165</td>\n",
       "      <td>2018-01-31T00:00:00</td>\n",
       "      <td>WDF2</td>\n",
       "      <td>GHCND:USW00013781</td>\n",
       "      <td>,,W,</td>\n",
       "      <td>320</td>\n",
       "      <td>daily_summaries_FIPS1003_jan_2018_1.json</td>\n",
       "    </tr>\n",
       "    <tr>\n",
       "      <td>166</td>\n",
       "      <td>2018-01-31T00:00:00</td>\n",
       "      <td>WDF5</td>\n",
       "      <td>GHCND:USW00013781</td>\n",
       "      <td>,,W,</td>\n",
       "      <td>310</td>\n",
       "      <td>daily_summaries_FIPS1003_jan_2018_1.json</td>\n",
       "    </tr>\n",
       "    <tr>\n",
       "      <td>167</td>\n",
       "      <td>2018-01-31T00:00:00</td>\n",
       "      <td>WSF2</td>\n",
       "      <td>GHCND:USW00013781</td>\n",
       "      <td>,,W,</td>\n",
       "      <td>89</td>\n",
       "      <td>daily_summaries_FIPS1003_jan_2018_1.json</td>\n",
       "    </tr>\n",
       "    <tr>\n",
       "      <td>168</td>\n",
       "      <td>2018-01-31T00:00:00</td>\n",
       "      <td>WSF5</td>\n",
       "      <td>GHCND:USW00013781</td>\n",
       "      <td>,,W,</td>\n",
       "      <td>116</td>\n",
       "      <td>daily_summaries_FIPS1003_jan_2018_1.json</td>\n",
       "    </tr>\n",
       "  </tbody>\n",
       "</table>\n",
       "<p>1169 rows × 6 columns</p>\n",
       "</div>"
      ],
      "text/plain": [
       "                    date datatype            station attributes  value  \\\n",
       "0    2018-01-01T00:00:00     PRCP  GHCND:US1DENC0001       ,,N,      0   \n",
       "1    2018-01-01T00:00:00     SNWD  GHCND:US1DENC0001      T,,N,      0   \n",
       "2    2018-01-01T00:00:00     PRCP  GHCND:US1DENC0002       ,,N,      0   \n",
       "3    2018-01-01T00:00:00     SNOW  GHCND:US1DENC0002       ,,N,      0   \n",
       "4    2018-01-01T00:00:00     SNWD  GHCND:US1DENC0002      T,,N,      0   \n",
       "..                   ...      ...                ...        ...    ...   \n",
       "164  2018-01-31T00:00:00     TMIN  GHCND:USW00013781   ,,W,2400    -93   \n",
       "165  2018-01-31T00:00:00     WDF2  GHCND:USW00013781       ,,W,    320   \n",
       "166  2018-01-31T00:00:00     WDF5  GHCND:USW00013781       ,,W,    310   \n",
       "167  2018-01-31T00:00:00     WSF2  GHCND:USW00013781       ,,W,     89   \n",
       "168  2018-01-31T00:00:00     WSF5  GHCND:USW00013781       ,,W,    116   \n",
       "\n",
       "                                        source  \n",
       "0    daily_summaries_FIPS10003_jan_2018_0.json  \n",
       "1    daily_summaries_FIPS10003_jan_2018_0.json  \n",
       "2    daily_summaries_FIPS10003_jan_2018_0.json  \n",
       "3    daily_summaries_FIPS10003_jan_2018_0.json  \n",
       "4    daily_summaries_FIPS10003_jan_2018_0.json  \n",
       "..                                         ...  \n",
       "164   daily_summaries_FIPS1003_jan_2018_1.json  \n",
       "165   daily_summaries_FIPS1003_jan_2018_1.json  \n",
       "166   daily_summaries_FIPS1003_jan_2018_1.json  \n",
       "167   daily_summaries_FIPS1003_jan_2018_1.json  \n",
       "168   daily_summaries_FIPS1003_jan_2018_1.json  \n",
       "\n",
       "[1169 rows x 6 columns]"
      ]
     },
     "execution_count": 7,
     "metadata": {},
     "output_type": "execute_result"
    }
   ],
   "source": [
    "df_daily_summaries"
   ]
  },
  {
   "cell_type": "code",
   "execution_count": 41,
   "metadata": {},
   "outputs": [
    {
     "data": {
      "text/plain": [
       "GHCND:USW00013781    333\n",
       "GHCND:US1DENC0002    147\n",
       "GHCND:US1DENC0013    126\n",
       "GHCND:US1DENC0010     78\n",
       "GHCND:US1DENC0034     54\n",
       "GHCND:US1DENC0028     51\n",
       "GHCND:US1DENC0001     49\n",
       "GHCND:US1DENC0041     47\n",
       "GHCND:US1DENC0033     43\n",
       "GHCND:US1DENC0031     42\n",
       "GHCND:US1DENC0040     39\n",
       "GHCND:US1DENC0032     37\n",
       "GHCND:US1DENC0004     36\n",
       "GHCND:US1DENC0060     35\n",
       "GHCND:US1DENC0035     22\n",
       "GHCND:US1DENC0054     21\n",
       "GHCND:US1DENC0038      9\n",
       "Name: station, dtype: int64"
      ]
     },
     "execution_count": 41,
     "metadata": {},
     "output_type": "execute_result"
    }
   ],
   "source": [
    "df_daily_summaries['station'].value_counts()"
   ]
  },
  {
   "cell_type": "code",
   "execution_count": 8,
   "metadata": {},
   "outputs": [
    {
     "data": {
      "text/plain": [
       "(1169, 6)"
      ]
     },
     "execution_count": 8,
     "metadata": {},
     "output_type": "execute_result"
    }
   ],
   "source": [
    "df_daily_summaries.shape"
   ]
  },
  {
   "cell_type": "code",
   "execution_count": 29,
   "metadata": {},
   "outputs": [],
   "source": [
    "temps_max = df[df_daily_summaries['datatype'] == 'TMAX']"
   ]
  },
  {
   "cell_type": "code",
   "execution_count": 31,
   "metadata": {},
   "outputs": [
    {
     "data": {
      "text/plain": [
       "35     -60\n",
       "75     -38\n",
       "117     -5\n",
       "165    -21\n",
       "205    -82\n",
       "237    -88\n",
       "273    -71\n",
       "309      6\n",
       "336     78\n",
       "373     56\n",
       "411    133\n",
       "445    167\n",
       "486    139\n",
       "523    -32\n",
       "565      0\n",
       "608     56\n",
       "654     22\n",
       "693     22\n",
       "731     83\n",
       "768    139\n",
       "808    117\n",
       "839    156\n",
       "872    172\n",
       "908     72\n",
       "944     28\n",
       "981     39\n",
       "17     150\n",
       "46     133\n",
       "88      78\n",
       "124     39\n",
       "163      6\n",
       "Name: value, dtype: int64"
      ]
     },
     "execution_count": 31,
     "metadata": {},
     "output_type": "execute_result"
    }
   ],
   "source": [
    "temps_max['value']"
   ]
  },
  {
   "cell_type": "code",
   "execution_count": 35,
   "metadata": {},
   "outputs": [
    {
     "data": {
      "text/plain": [
       "count     31.000000\n",
       "mean      48.193548\n",
       "std       77.768640\n",
       "min      -88.000000\n",
       "25%       -2.500000\n",
       "50%       39.000000\n",
       "75%      125.000000\n",
       "max      172.000000\n",
       "Name: value, dtype: float64"
      ]
     },
     "execution_count": 35,
     "metadata": {},
     "output_type": "execute_result"
    }
   ],
   "source": [
    "temps_max['value'].describe()"
   ]
  },
  {
   "cell_type": "code",
   "execution_count": 36,
   "metadata": {},
   "outputs": [],
   "source": [
    "temps_min = df[df_daily_summaries['datatype'] == 'TMIN']"
   ]
  },
  {
   "cell_type": "code",
   "execution_count": 38,
   "metadata": {},
   "outputs": [
    {
     "data": {
      "text/plain": [
       "36    -149\n",
       "76    -116\n",
       "118   -132\n",
       "166    -93\n",
       "206   -121\n",
       "238   -138\n",
       "274   -166\n",
       "310   -105\n",
       "337    -60\n",
       "374    -49\n",
       "412     33\n",
       "446     83\n",
       "487    -71\n",
       "524   -105\n",
       "566    -88\n",
       "609    -16\n",
       "655    -77\n",
       "694    -99\n",
       "732    -66\n",
       "769    -38\n",
       "809    -32\n",
       "840     39\n",
       "873     44\n",
       "909      6\n",
       "945    -38\n",
       "982    -66\n",
       "18     -49\n",
       "47      72\n",
       "89      33\n",
       "125    -55\n",
       "164    -93\n",
       "Name: value, dtype: int64"
      ]
     },
     "execution_count": 38,
     "metadata": {},
     "output_type": "execute_result"
    }
   ],
   "source": [
    "temps_min['value']"
   ]
  },
  {
   "cell_type": "code",
   "execution_count": 39,
   "metadata": {},
   "outputs": [
    {
     "data": {
      "text/plain": [
       "count     31.000000\n",
       "mean     -55.225806\n",
       "std       65.749378\n",
       "min     -166.000000\n",
       "25%     -102.000000\n",
       "50%      -66.000000\n",
       "75%      -24.000000\n",
       "max       83.000000\n",
       "Name: value, dtype: float64"
      ]
     },
     "execution_count": 39,
     "metadata": {},
     "output_type": "execute_result"
    }
   ],
   "source": [
    "temps_min['value'].describe()"
   ]
  },
  {
   "cell_type": "code",
   "execution_count": 44,
   "metadata": {},
   "outputs": [
    {
     "data": {
      "text/html": [
       "<div>\n",
       "<style scoped>\n",
       "    .dataframe tbody tr th:only-of-type {\n",
       "        vertical-align: middle;\n",
       "    }\n",
       "\n",
       "    .dataframe tbody tr th {\n",
       "        vertical-align: top;\n",
       "    }\n",
       "\n",
       "    .dataframe thead th {\n",
       "        text-align: right;\n",
       "    }\n",
       "</style>\n",
       "<table border=\"1\" class=\"dataframe\">\n",
       "  <thead>\n",
       "    <tr style=\"text-align: right;\">\n",
       "      <th></th>\n",
       "      <th>date</th>\n",
       "      <th>datatype</th>\n",
       "      <th>station</th>\n",
       "      <th>attributes</th>\n",
       "      <th>value</th>\n",
       "      <th>source</th>\n",
       "    </tr>\n",
       "  </thead>\n",
       "  <tbody>\n",
       "    <tr>\n",
       "      <td>36</td>\n",
       "      <td>2018-01-01T00:00:00</td>\n",
       "      <td>TMIN</td>\n",
       "      <td>GHCND:USW00013781</td>\n",
       "      <td>,,W,2400</td>\n",
       "      <td>-149</td>\n",
       "      <td>daily_summaries_FIPS10003_jan_2018_0.json</td>\n",
       "    </tr>\n",
       "  </tbody>\n",
       "</table>\n",
       "</div>"
      ],
      "text/plain": [
       "                   date datatype            station attributes  value  \\\n",
       "36  2018-01-01T00:00:00     TMIN  GHCND:USW00013781   ,,W,2400   -149   \n",
       "\n",
       "                                       source  \n",
       "36  daily_summaries_FIPS10003_jan_2018_0.json  "
      ]
     },
     "execution_count": 44,
     "metadata": {},
     "output_type": "execute_result"
    }
   ],
   "source": [
    "temps_min[temps_min['value'] == -149]"
   ]
  },
  {
   "cell_type": "code",
   "execution_count": null,
   "metadata": {},
   "outputs": [],
   "source": []
  }
 ],
 "metadata": {
  "kernelspec": {
   "display_name": "Python 3",
   "language": "python",
   "name": "python3"
  },
  "language_info": {
   "codemirror_mode": {
    "name": "ipython",
    "version": 3
   },
   "file_extension": ".py",
   "mimetype": "text/x-python",
   "name": "python",
   "nbconvert_exporter": "python",
   "pygments_lexer": "ipython3",
   "version": "3.7.4"
  }
 },
 "nbformat": 4,
 "nbformat_minor": 2
}
